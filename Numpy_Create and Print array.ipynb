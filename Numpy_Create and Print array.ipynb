{
 "cells": [
  {
   "cell_type": "code",
   "execution_count": 5,
   "id": "d8a53571",
   "metadata": {},
   "outputs": [],
   "source": [
    "# Import numpy library\n",
    "import numpy as np"
   ]
  },
  {
   "cell_type": "code",
   "execution_count": 5,
   "id": "e6046beb",
   "metadata": {},
   "outputs": [
    {
     "data": {
      "text/plain": [
       "array([1, 2, 3, 4])"
      ]
     },
     "execution_count": 5,
     "metadata": {},
     "output_type": "execute_result"
    }
   ],
   "source": [
    "# first numpy array\n",
    "first_numpy_array = np.array([1,2,3,4])\n",
    "first_numpy_array"
   ]
  },
  {
   "cell_type": "code",
   "execution_count": 7,
   "id": "3141a299",
   "metadata": {},
   "outputs": [
    {
     "name": "stdout",
     "output_type": "stream",
     "text": [
      "[1 2 3 4]\n"
     ]
    }
   ],
   "source": [
    "# print first array\n",
    "print(first_numpy_array)"
   ]
  },
  {
   "cell_type": "code",
   "execution_count": 9,
   "id": "a7e206d5",
   "metadata": {},
   "outputs": [
    {
     "name": "stdout",
     "output_type": "stream",
     "text": [
      "[[0. 0. 0. 0.]\n",
      " [0. 0. 0. 0.]\n",
      " [0. 0. 0. 0.]]\n"
     ]
    }
   ],
   "source": [
    "# array with zeroes\n",
    "array_with_zeroes = np.zeros((3,4))\n",
    "print(array_with_zeroes)"
   ]
  },
  {
   "cell_type": "code",
   "execution_count": 11,
   "id": "e3da1635",
   "metadata": {},
   "outputs": [
    {
     "name": "stdout",
     "output_type": "stream",
     "text": [
      "[[1. 1. 1. 1.]\n",
      " [1. 1. 1. 1.]\n",
      " [1. 1. 1. 1.]]\n"
     ]
    }
   ],
   "source": [
    "# array with ones\n",
    "array_with_ones = np.ones((3,4))\n",
    "print(array_with_ones)"
   ]
  },
  {
   "cell_type": "code",
   "execution_count": 56,
   "id": "fee91ec4",
   "metadata": {},
   "outputs": [
    {
     "name": "stdout",
     "output_type": "stream",
     "text": [
      "[[1. 1. 1. 1.]\n",
      " [1. 1. 1. 1.]\n",
      " [1. 1. 1. 1.]]\n"
     ]
    }
   ],
   "source": [
    "# array with empty\n",
    "array_with_empty = np.empty((3,4))\n",
    "print(array_with_empty)"
   ]
  },
  {
   "cell_type": "code",
   "execution_count": 58,
   "id": "0663d518",
   "metadata": {},
   "outputs": [
    {
     "name": "stdout",
     "output_type": "stream",
     "text": [
      "[ 0  1  2  3  4  5  6  7  8  9 10 11]\n"
     ]
    }
   ],
   "source": [
    "# array with arange method\n",
    "array_with_arange = np.arange(12)\n",
    "print(array_with_arange)"
   ]
  },
  {
   "cell_type": "code",
   "execution_count": 69,
   "id": "981be57c",
   "metadata": {},
   "outputs": [
    {
     "data": {
      "text/plain": [
       "array([[ 0,  1,  2,  3],\n",
       "       [ 4,  5,  6,  7],\n",
       "       [ 8,  9, 10, 11]])"
      ]
     },
     "execution_count": 69,
     "metadata": {},
     "output_type": "execute_result"
    }
   ],
   "source": [
    "# reshape method to change / create array\n",
    "array_with_arange.reshape(3,4)"
   ]
  },
  {
   "cell_type": "code",
   "execution_count": 75,
   "id": "74980521",
   "metadata": {},
   "outputs": [
    {
     "name": "stdout",
     "output_type": "stream",
     "text": [
      "[  1.   20.8  40.6  60.4  80.2 100. ]\n"
     ]
    }
   ],
   "source": [
    "# linspace for evenly distributed over specified range\n",
    "np_linspace = np.linspace(1,100,6)\n",
    "print(np_linspace)"
   ]
  },
  {
   "cell_type": "code",
   "execution_count": 78,
   "id": "3623a28d",
   "metadata": {},
   "outputs": [
    {
     "name": "stdout",
     "output_type": "stream",
     "text": [
      "[ 0  1  2  3  4  5  6  7  8  9 10 11]\n"
     ]
    }
   ],
   "source": [
    "# print oneD array\n",
    "oneD_array = np.arange(12)\n",
    "print(oneD_array)"
   ]
  },
  {
   "cell_type": "code",
   "execution_count": 83,
   "id": "04750a2a",
   "metadata": {},
   "outputs": [
    {
     "name": "stdout",
     "output_type": "stream",
     "text": [
      "[[ 0  1  2  3]\n",
      " [ 4  5  6  7]\n",
      " [ 8  9 10 11]]\n"
     ]
    }
   ],
   "source": [
    "# print twoD array\n",
    "twoD_array = oneD_array.reshape(3,4)\n",
    "print(twoD_array)"
   ]
  },
  {
   "cell_type": "code",
   "execution_count": 91,
   "id": "cdd67589",
   "metadata": {},
   "outputs": [
    {
     "name": "stdout",
     "output_type": "stream",
     "text": [
      "[[[ 0  1]\n",
      "  [ 2  3]\n",
      "  [ 4  5]]\n",
      "\n",
      " [[ 6  7]\n",
      "  [ 8  9]\n",
      "  [10 11]]]\n"
     ]
    }
   ],
   "source": [
    "# print threeD array\n",
    "np_array = np.arange(12)\n",
    "threeD_array = np_array.reshape(2,3,2)\n",
    "print(threeD_array)"
   ]
  },
  {
   "cell_type": "code",
   "execution_count": 86,
   "id": "17502ff0",
   "metadata": {},
   "outputs": [
    {
     "name": "stdout",
     "output_type": "stream",
     "text": [
      "Dimension of oneD array is  1\n"
     ]
    }
   ],
   "source": [
    "# check dimension of oneD array\n",
    "print('Dimension of oneD array is ', oneD_array.ndim)"
   ]
  },
  {
   "cell_type": "code",
   "execution_count": 89,
   "id": "057c339f",
   "metadata": {},
   "outputs": [
    {
     "name": "stdout",
     "output_type": "stream",
     "text": [
      "Dimension of twoD array is  2\n"
     ]
    }
   ],
   "source": [
    "# check dimension of twoD array\n",
    "print('Dimension of twoD array is ', twoD_array.ndim)"
   ]
  },
  {
   "cell_type": "code",
   "execution_count": 8,
   "id": "5d7690f2",
   "metadata": {},
   "outputs": [
    {
     "name": "stdout",
     "output_type": "stream",
     "text": [
      "Dimension of threeD array is  3\n"
     ]
    }
   ],
   "source": [
    "# check dimension of threeD array\n",
    "np_array = np.arange(12)\n",
    "threeD_array = np_array.reshape(2,3,2)\n",
    "print('Dimension of threeD array is ', threeD_array.ndim)"
   ]
  },
  {
   "cell_type": "markdown",
   "id": "a19c951b",
   "metadata": {},
   "source": [
    "# Numpy - Basic operations, based on indices"
   ]
  },
  {
   "cell_type": "code",
   "execution_count": 9,
   "id": "19c55c90",
   "metadata": {},
   "outputs": [],
   "source": [
    "first_trial_cyclist = [10, 15, 17, 26]\n",
    "second_trial_cyclist = [12, 11, 21, 24]"
   ]
  },
  {
   "cell_type": "code",
   "execution_count": 11,
   "id": "b9399975",
   "metadata": {},
   "outputs": [],
   "source": [
    "np_first_trial_cyclist = np.array(first_trial_cyclist)\n",
    "np_second_trial_cyclist = np.array(second_trial_cyclist)"
   ]
  },
  {
   "cell_type": "code",
   "execution_count": 13,
   "id": "83522fd2",
   "metadata": {},
   "outputs": [
    {
     "name": "stdout",
     "output_type": "stream",
     "text": [
      "[22 26 38 50]\n"
     ]
    }
   ],
   "source": [
    "np_all_trial_cyclist = np_first_trial_cyclist + np_second_trial_cyclist\n",
    "print(np_all_trial_cyclist)"
   ]
  },
  {
   "cell_type": "code",
   "execution_count": 17,
   "id": "a63b6c58",
   "metadata": {},
   "outputs": [
    {
     "data": {
      "text/plain": [
       "30"
      ]
     },
     "execution_count": 17,
     "metadata": {},
     "output_type": "execute_result"
    }
   ],
   "source": [
    "# addition - 2 numbers\n",
    "np.add(10,20)"
   ]
  },
  {
   "cell_type": "code",
   "execution_count": 19,
   "id": "7fa03c6a",
   "metadata": {},
   "outputs": [
    {
     "data": {
      "text/plain": [
       "-250"
      ]
     },
     "execution_count": 19,
     "metadata": {},
     "output_type": "execute_result"
    }
   ],
   "source": [
    "# subtraction\n",
    "np.subtract(50,300)"
   ]
  },
  {
   "cell_type": "code",
   "execution_count": 20,
   "id": "d44f448a",
   "metadata": {},
   "outputs": [],
   "source": [
    "# ndarray multiplication\n",
    "# creates ndarray which contains number of hrs. worked for 5 days\n",
    "# hourly rate is 15 usd\n",
    "\n",
    "np_daily_wage = np.array([7,9,13,8,11]) * 15"
   ]
  },
  {
   "cell_type": "code",
   "execution_count": 21,
   "id": "4e5f5f34",
   "metadata": {},
   "outputs": [
    {
     "name": "stdout",
     "output_type": "stream",
     "text": [
      "[105 135 195 120 165]\n"
     ]
    }
   ],
   "source": [
    "# print hourly wage for each day\n",
    "print(np_daily_wage)"
   ]
  },
  {
   "cell_type": "code",
   "execution_count": 22,
   "id": "ce3554a5",
   "metadata": {},
   "outputs": [
    {
     "data": {
      "text/plain": [
       "720"
      ]
     },
     "execution_count": 22,
     "metadata": {},
     "output_type": "execute_result"
    }
   ],
   "source": [
    "# total earning after 5 days\n",
    "# use sum() method to add all the data elements in ndarray\n",
    "\n",
    "sum(np_daily_wage)"
   ]
  },
  {
   "cell_type": "markdown",
   "id": "ac3853f4",
   "metadata": {},
   "source": [
    "# Comparison Operations"
   ]
  },
  {
   "cell_type": "code",
   "execution_count": 24,
   "id": "4710db7f",
   "metadata": {},
   "outputs": [],
   "source": [
    "# create ndarray for weekly hrs, 5 consecutive weeks hrs data\n",
    "np_weekly_hrs = np.array([23,30,35,40,45,50])"
   ]
  },
  {
   "cell_type": "code",
   "execution_count": 26,
   "id": "d85f3f97",
   "metadata": {},
   "outputs": [
    {
     "data": {
      "text/plain": [
       "array([45, 50])"
      ]
     },
     "execution_count": 26,
     "metadata": {},
     "output_type": "execute_result"
    }
   ],
   "source": [
    "# week with more than 40 hrs\n",
    "np_weekly_hrs[np_weekly_hrs>40]"
   ]
  },
  {
   "cell_type": "code",
   "execution_count": 31,
   "id": "d90fe8b2",
   "metadata": {},
   "outputs": [
    {
     "data": {
      "text/plain": [
       "array([23, 30, 35, 45, 50])"
      ]
     },
     "execution_count": 31,
     "metadata": {},
     "output_type": "execute_result"
    }
   ],
   "source": [
    "# week with not equal 40 hrs.\n",
    "np_weekly_hrs[np_weekly_hrs!=40]"
   ]
  },
  {
   "cell_type": "markdown",
   "id": "79912365",
   "metadata": {},
   "source": [
    "# Logical Operations"
   ]
  },
  {
   "cell_type": "code",
   "execution_count": 33,
   "id": "e5825ec1",
   "metadata": {},
   "outputs": [
    {
     "data": {
      "text/plain": [
       "array([ True,  True,  True,  True,  True, False])"
      ]
     },
     "execution_count": 33,
     "metadata": {},
     "output_type": "execute_result"
    }
   ],
   "source": [
    "# Logical AND operation\n",
    "np.logical_and(np_weekly_hrs > 20, np_weekly_hrs < 50)"
   ]
  },
  {
   "cell_type": "code",
   "execution_count": 35,
   "id": "c3c00f21",
   "metadata": {},
   "outputs": [
    {
     "data": {
      "text/plain": [
       "array([ True,  True,  True, False, False, False])"
      ]
     },
     "execution_count": 35,
     "metadata": {},
     "output_type": "execute_result"
    }
   ],
   "source": [
    "# logical NOT operation\n",
    "np.logical_not(np_weekly_hrs > 35)"
   ]
  },
  {
   "cell_type": "markdown",
   "id": "40b31caa",
   "metadata": {},
   "source": [
    "# Accessing Array Elements : Indexing"
   ]
  },
  {
   "cell_type": "code",
   "execution_count": 44,
   "id": "03e789aa",
   "metadata": {},
   "outputs": [],
   "source": [
    "# first_trial_cyclist = [10, 15, 17, 26]\n",
    "# second_trial_cyclist = [12, 11, 21, 24]\n",
    "cyclist_trials = np.array([[10,15,17,26], [12,11,21,24]])"
   ]
  },
  {
   "cell_type": "code",
   "execution_count": 48,
   "id": "acf3cd80",
   "metadata": {},
   "outputs": [
    {
     "name": "stdout",
     "output_type": "stream",
     "text": [
      "[[10 15 17 26]\n",
      " [12 11 21 24]]\n"
     ]
    }
   ],
   "source": [
    "all_cyclist_all_trial = cyclist_trials[:]\n",
    "print(all_cyclist_all_trial)"
   ]
  },
  {
   "cell_type": "code",
   "execution_count": 41,
   "id": "dbabffda",
   "metadata": {},
   "outputs": [
    {
     "name": "stdout",
     "output_type": "stream",
     "text": [
      "[10 15 17 26]\n"
     ]
    }
   ],
   "source": [
    "all_cyclist_first_trial = cyclist_trials[0]\n",
    "print(all_cyclist_first_trial)"
   ]
  },
  {
   "cell_type": "code",
   "execution_count": 49,
   "id": "0029161e",
   "metadata": {},
   "outputs": [
    {
     "name": "stdout",
     "output_type": "stream",
     "text": [
      "[12 11 21 24]\n"
     ]
    }
   ],
   "source": [
    "all_cyclist_sencond_trail = cyclist_trials[1]\n",
    "print(all_cyclist_sencond_trail)"
   ]
  },
  {
   "cell_type": "code",
   "execution_count": 53,
   "id": "9b6c5f2a",
   "metadata": {},
   "outputs": [
    {
     "data": {
      "text/plain": [
       "10"
      ]
     },
     "execution_count": 53,
     "metadata": {},
     "output_type": "execute_result"
    }
   ],
   "source": [
    "first_cyclist_first_trial = cyclist_trials[0,0]\n",
    "first_cyclist_first_trial"
   ]
  },
  {
   "cell_type": "code",
   "execution_count": 56,
   "id": "aa298666",
   "metadata": {},
   "outputs": [
    {
     "data": {
      "text/plain": [
       "array([10, 12])"
      ]
     },
     "execution_count": 56,
     "metadata": {},
     "output_type": "execute_result"
    }
   ],
   "source": [
    "# : used to access all rows, then coloumn index to fetch respective cyclists\n",
    "first_cyclist_all_trial = cyclist_trials[:,0]\n",
    "first_cyclist_all_trial"
   ]
  },
  {
   "cell_type": "code",
   "execution_count": 57,
   "id": "6d955388",
   "metadata": {},
   "outputs": [
    {
     "data": {
      "text/plain": [
       "(2, 4)"
      ]
     },
     "execution_count": 57,
     "metadata": {},
     "output_type": "execute_result"
    }
   ],
   "source": [
    "# shape of the array (row, col)\n",
    "cyclist_trials.shape"
   ]
  },
  {
   "cell_type": "code",
   "execution_count": 58,
   "id": "c7c4552f",
   "metadata": {},
   "outputs": [],
   "source": [
    "# access all trails data for 2nd and 3rd cyclist from the below data matrix -\n",
    "# 10, 15, 17, 26 - 1st trial data\n",
    "# 12, 11, 21, 24 - 2nd trial data"
   ]
  },
  {
   "cell_type": "code",
   "execution_count": 69,
   "id": "29c71417",
   "metadata": {},
   "outputs": [
    {
     "data": {
      "text/plain": [
       "array([[15, 17],\n",
       "       [11, 21]])"
      ]
     },
     "execution_count": 69,
     "metadata": {},
     "output_type": "execute_result"
    }
   ],
   "source": [
    "cyclist_2_3_trial_data = cyclist_trials[:,1:3]\n",
    "cyclist_2_3_trial_data"
   ]
  },
  {
   "cell_type": "code",
   "execution_count": 71,
   "id": "82d88a2c",
   "metadata": {},
   "outputs": [
    {
     "name": "stdout",
     "output_type": "stream",
     "text": [
      "[10 15 17 26]\n",
      "[12 11 21 24]\n"
     ]
    }
   ],
   "source": [
    "# use for loop to access all cyclist all trials\n",
    "for iterate_cyclist_trials in cyclist_trials:\n",
    "    print(iterate_cyclist_trials)"
   ]
  },
  {
   "cell_type": "code",
   "execution_count": 72,
   "id": "49de6540",
   "metadata": {},
   "outputs": [
    {
     "name": "stdout",
     "output_type": "stream",
     "text": [
      "[15 17]\n",
      "[11 21]\n"
     ]
    }
   ],
   "source": [
    "# use for loop to access - 2nd and 3rd cyclist all data\n",
    "for iterate_2_3_cyclist in cyclist_2_3_trial_data:\n",
    "    print(iterate_2_3_cyclist)"
   ]
  }
 ],
 "metadata": {
  "kernelspec": {
   "display_name": "Python 3",
   "language": "python",
   "name": "python3"
  },
  "language_info": {
   "codemirror_mode": {
    "name": "ipython",
    "version": 3
   },
   "file_extension": ".py",
   "mimetype": "text/x-python",
   "name": "python",
   "nbconvert_exporter": "python",
   "pygments_lexer": "ipython3",
   "version": "3.8.8"
  }
 },
 "nbformat": 4,
 "nbformat_minor": 5
}
