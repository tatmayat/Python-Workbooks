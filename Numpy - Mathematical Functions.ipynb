{
 "cells": [
  {
   "cell_type": "markdown",
   "id": "b3af186a",
   "metadata": {},
   "source": [
    "# ufunc - universal functions"
   ]
  },
  {
   "cell_type": "code",
   "execution_count": 2,
   "id": "b09bb9fb",
   "metadata": {},
   "outputs": [],
   "source": [
    "import numpy as np"
   ]
  },
  {
   "cell_type": "code",
   "execution_count": 5,
   "id": "d65527ab",
   "metadata": {},
   "outputs": [
    {
     "data": {
      "text/plain": [
       "array([1.        , 1.41421356, 1.73205081, 2.        , 2.23606798,\n",
       "       2.44948974, 2.64575131, 2.82842712, 3.        ])"
      ]
     },
     "execution_count": 5,
     "metadata": {},
     "output_type": "execute_result"
    }
   ],
   "source": [
    "# square root\n",
    "np_sqrt = np.sqrt([1,2,3,4,5,6,7,8,9]) \n",
    "np_sqrt"
   ]
  },
  {
   "cell_type": "code",
   "execution_count": 9,
   "id": "87aa92b3",
   "metadata": {},
   "outputs": [
    {
     "name": "stdout",
     "output_type": "stream",
     "text": [
      "3.141592653589793\n"
     ]
    }
   ],
   "source": [
    "from numpy import pi \n",
    "print(pi)"
   ]
  },
  {
   "cell_type": "code",
   "execution_count": 12,
   "id": "66a19bc9",
   "metadata": {},
   "outputs": [
    {
     "data": {
      "text/plain": [
       "array([  1.,   2.,   3.,  50., 100.])"
      ]
     },
     "execution_count": 12,
     "metadata": {},
     "output_type": "execute_result"
    }
   ],
   "source": [
    "# floor() towards -ve infinity\n",
    "\n",
    "np.floor([1.1, 2.7, 3.9, 50.1, 100])"
   ]
  },
  {
   "cell_type": "markdown",
   "id": "e144580e",
   "metadata": {},
   "source": [
    "# shape manipulation\n",
    "# flatten, resize, reshape, stack, split"
   ]
  },
  {
   "cell_type": "code",
   "execution_count": 24,
   "id": "7ad69995",
   "metadata": {},
   "outputs": [
    {
     "data": {
      "text/plain": [
       "array([10, 11, 12, 13, 14, 15, 16, 17, 18, 19, 20, 21])"
      ]
     },
     "execution_count": 24,
     "metadata": {},
     "output_type": "execute_result"
    }
   ],
   "source": [
    "# flatten - ravel()\n",
    "new_cyclist_trials = np.array([[10,11,12,13,14,15],[16,17,18,19,20,21]])\n",
    "new_cyclist_trials.ravel()"
   ]
  },
  {
   "cell_type": "code",
   "execution_count": 19,
   "id": "cc8bc295",
   "metadata": {},
   "outputs": [
    {
     "data": {
      "text/plain": [
       "array([ 0,  1,  2,  3,  4,  5,  6,  7,  8,  9, 10, 11])"
      ]
     },
     "execution_count": 19,
     "metadata": {},
     "output_type": "execute_result"
    }
   ],
   "source": [
    "a = np.array([[\n",
    "    [ 0, 1],\n",
    "  [ 2, 3],\n",
    "  [ 4, 5]],\n",
    "\n",
    " [[ 6, 7],\n",
    "  [ 8, 9],\n",
    "  [10, 11]]])\n",
    "a.ravel()"
   ]
  },
  {
   "cell_type": "code",
   "execution_count": 21,
   "id": "3d6c6276",
   "metadata": {},
   "outputs": [
    {
     "data": {
      "text/plain": [
       "array([[10, 11, 12, 13],\n",
       "       [14, 15, 16, 17],\n",
       "       [18, 19, 20, 21]])"
      ]
     },
     "execution_count": 21,
     "metadata": {},
     "output_type": "execute_result"
    }
   ],
   "source": [
    "# reshape - changes or reshape dataset\n",
    "new_cyclist_trials.reshape(3,4)"
   ]
  },
  {
   "cell_type": "code",
   "execution_count": 32,
   "id": "1ba61e97",
   "metadata": {},
   "outputs": [
    {
     "data": {
      "text/plain": [
       "array([[10, 11, 12],\n",
       "       [13, 14, 15],\n",
       "       [16, 17, 18],\n",
       "       [19, 20, 21]])"
      ]
     },
     "execution_count": 32,
     "metadata": {},
     "output_type": "execute_result"
    }
   ],
   "source": [
    "# resize - resize(row,col)\n",
    "new_cyclist_trials = np.array([[10,11,12,13,14,15],[16,17,18,19,20,21]])\n",
    "new_cyclist_trials.resize(4,3)\n",
    "new_cyclist_trials"
   ]
  },
  {
   "cell_type": "code",
   "execution_count": 36,
   "id": "511bee03",
   "metadata": {},
   "outputs": [
    {
     "data": {
      "text/plain": [
       "[array([[10, 11, 12]]),\n",
       " array([[13, 14, 15]]),\n",
       " array([[16, 17, 18]]),\n",
       " array([[19, 20, 21]])]"
      ]
     },
     "execution_count": 36,
     "metadata": {},
     "output_type": "execute_result"
    }
   ],
   "source": [
    "# split - split the array into n\n",
    "np.split(new_cyclist_trials,4)"
   ]
  },
  {
   "cell_type": "code",
   "execution_count": 43,
   "id": "0219ef59",
   "metadata": {},
   "outputs": [
    {
     "data": {
      "text/plain": [
       "array([[ 1,  2,  3,  4,  5],\n",
       "       [ 6,  7,  8,  9, 10]])"
      ]
     },
     "execution_count": 43,
     "metadata": {},
     "output_type": "execute_result"
    }
   ],
   "source": [
    "# stack - merge different arrays into one array\n",
    "\n",
    "new_cyclist_1 = np.array([1,2,3,4,5])\n",
    "new_cyclist_2 = np.array([6,7,8,9,10])\n",
    "np.stack((new_cyclist_1, new_cyclist_2))"
   ]
  },
  {
   "cell_type": "code",
   "execution_count": 46,
   "id": "b14c44f3",
   "metadata": {},
   "outputs": [
    {
     "data": {
      "text/plain": [
       "array([0.6, 0.9, 1.5, 2.4])"
      ]
     },
     "execution_count": 46,
     "metadata": {},
     "output_type": "execute_result"
    }
   ],
   "source": [
    "# Broadcasting - Numpy uses broadcasting to carry out arithmatic operation b/w\n",
    "# arrays of different shape. In this method Numpy automatically broadcast the \n",
    "# smaller array over the larger array\n",
    "\n",
    "array_a = np.array([2, 3, 5, 8])\n",
    "array_b = np.array([.3, .3, .3, .3])\n",
    "scalar_c = .3\n",
    "\n",
    "array_a * array_b\n",
    "array_a * scalar_c"
   ]
  },
  {
   "cell_type": "code",
   "execution_count": 50,
   "id": "2019dbf3",
   "metadata": {},
   "outputs": [
    {
     "data": {
      "text/plain": [
       "array([ 7.,  9., 13.,  8., 11.])"
      ]
     },
     "execution_count": 50,
     "metadata": {},
     "output_type": "execute_result"
    }
   ],
   "source": [
    "# Broadcasting\n",
    "np_week_one = np.array([105, 135, 195, 120, 165])\n",
    "np_week_one_hr = np_week_one / 15\n",
    "np_week_one_hr"
   ]
  },
  {
   "cell_type": "code",
   "execution_count": 57,
   "id": "0e0b5ef0",
   "metadata": {},
   "outputs": [
    {
     "name": "stdout",
     "output_type": "stream",
     "text": [
      "[[83 71 57 63]\n",
      " [54 68 81 45]]\n"
     ]
    }
   ],
   "source": [
    "# Linear algebra\n",
    "# Transpose - this interchange rows as column\n",
    "\n",
    "test_score = np.array([[83,71,57,63],[54,68,81,45]])\n",
    "print(test_score)"
   ]
  },
  {
   "cell_type": "code",
   "execution_count": 62,
   "id": "1da705c3",
   "metadata": {},
   "outputs": [
    {
     "data": {
      "text/plain": [
       "array([[83, 54],\n",
       "       [71, 68],\n",
       "       [57, 81],\n",
       "       [63, 45]])"
      ]
     },
     "execution_count": 62,
     "metadata": {},
     "output_type": "execute_result"
    }
   ],
   "source": [
    "test_score.transpose()"
   ]
  },
  {
   "cell_type": "code",
   "execution_count": 65,
   "id": "de289bb7",
   "metadata": {},
   "outputs": [
    {
     "data": {
      "text/plain": [
       "array([[10, 20],\n",
       "       [15, 25]])"
      ]
     },
     "execution_count": 65,
     "metadata": {},
     "output_type": "execute_result"
    }
   ],
   "source": [
    "# linear algebra - inverse function\n",
    "inverse_array = np.array([[10,20], [15,25]])\n",
    "inverse_array"
   ]
  },
  {
   "cell_type": "code",
   "execution_count": 68,
   "id": "cc62fb53",
   "metadata": {},
   "outputs": [
    {
     "data": {
      "text/plain": [
       "array([[-0.5,  0.4],\n",
       "       [ 0.3, -0.2]])"
      ]
     },
     "execution_count": 68,
     "metadata": {},
     "output_type": "execute_result"
    }
   ],
   "source": [
    "# inverse can only be applied on square matrix\n",
    "np.linalg.inv(inverse_array)"
   ]
  },
  {
   "cell_type": "code",
   "execution_count": 71,
   "id": "c7e56cd6",
   "metadata": {},
   "outputs": [
    {
     "data": {
      "text/plain": [
       "array([[10, 20],\n",
       "       [22, 31]])"
      ]
     },
     "execution_count": 71,
     "metadata": {},
     "output_type": "execute_result"
    }
   ],
   "source": [
    "# trace() function - sum of all the elements of diagonal of a matrix \n",
    "trace_array = np.array([[10, 20], [22, 31]])\n",
    "trace_array"
   ]
  },
  {
   "cell_type": "code",
   "execution_count": 72,
   "id": "1f7c693f",
   "metadata": {},
   "outputs": [
    {
     "data": {
      "text/plain": [
       "41"
      ]
     },
     "execution_count": 72,
     "metadata": {},
     "output_type": "execute_result"
    }
   ],
   "source": [
    "np.trace(trace_array)"
   ]
  }
 ],
 "metadata": {
  "kernelspec": {
   "display_name": "Python 3",
   "language": "python",
   "name": "python3"
  },
  "language_info": {
   "codemirror_mode": {
    "name": "ipython",
    "version": 3
   },
   "file_extension": ".py",
   "mimetype": "text/x-python",
   "name": "python",
   "nbconvert_exporter": "python",
   "pygments_lexer": "ipython3",
   "version": "3.8.8"
  }
 },
 "nbformat": 4,
 "nbformat_minor": 5
}
